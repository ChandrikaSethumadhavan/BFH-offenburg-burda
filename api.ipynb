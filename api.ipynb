{
 "cells": [
  {
   "cell_type": "code",
   "execution_count": 287,
   "id": "504186c0",
   "metadata": {},
   "outputs": [],
   "source": [
    "import requests\n",
    "import os\n",
    "from dotenv import load_dotenv"
   ]
  },
  {
   "cell_type": "code",
   "execution_count": 288,
   "id": "4381a118",
   "metadata": {},
   "outputs": [
    {
     "ename": "MissingSchema",
     "evalue": "Invalid URL '': No scheme supplied. Perhaps you meant https://?",
     "output_type": "error",
     "traceback": [
      "\u001b[31m---------------------------------------------------------------------------\u001b[39m",
      "\u001b[31mMissingSchema\u001b[39m                             Traceback (most recent call last)",
      "\u001b[36mCell\u001b[39m\u001b[36m \u001b[39m\u001b[32mIn[288]\u001b[39m\u001b[32m, line 6\u001b[39m\n\u001b[32m      4\u001b[39m header = {\u001b[33m\"\u001b[39m\u001b[33mAuthorization\u001b[39m\u001b[33m\"\u001b[39m:API_KEY}\n\u001b[32m      5\u001b[39m data = {\u001b[33m\"\u001b[39m\u001b[33mitem\u001b[39m\u001b[33m\"\u001b[39m:\u001b[33m\"\u001b[39m\u001b[33m\"\u001b[39m}\n\u001b[32m----> \u001b[39m\u001b[32m6\u001b[39m incoming = \u001b[43mrequests\u001b[49m\u001b[43m.\u001b[49m\u001b[43mget\u001b[49m\u001b[43m(\u001b[49m\u001b[43murl\u001b[49m\u001b[43m,\u001b[49m\u001b[43mheaders\u001b[49m\u001b[43m=\u001b[49m\u001b[43mheader\u001b[49m\u001b[43m,\u001b[49m\u001b[43mdata\u001b[49m\u001b[43m=\u001b[49m\u001b[43mdata\u001b[49m\u001b[43m)\u001b[49m\n\u001b[32m      7\u001b[39m \u001b[38;5;28;01mif\u001b[39;00m incoming.status_code==\u001b[32m200\u001b[39m:\n\u001b[32m      8\u001b[39m     \u001b[38;5;28mprint\u001b[39m(incoming.json())\n",
      "\u001b[36mFile \u001b[39m\u001b[32mc:\\Users\\muthu\\Documents\\bfh\\BFH-offenburg-burda\\bfh\\Lib\\site-packages\\requests\\api.py:73\u001b[39m, in \u001b[36mget\u001b[39m\u001b[34m(url, params, **kwargs)\u001b[39m\n\u001b[32m     62\u001b[39m \u001b[38;5;28;01mdef\u001b[39;00m\u001b[38;5;250m \u001b[39m\u001b[34mget\u001b[39m(url, params=\u001b[38;5;28;01mNone\u001b[39;00m, **kwargs):\n\u001b[32m     63\u001b[39m \u001b[38;5;250m    \u001b[39m\u001b[33mr\u001b[39m\u001b[33;03m\"\"\"Sends a GET request.\u001b[39;00m\n\u001b[32m     64\u001b[39m \n\u001b[32m     65\u001b[39m \u001b[33;03m    :param url: URL for the new :class:`Request` object.\u001b[39;00m\n\u001b[32m   (...)\u001b[39m\u001b[32m     70\u001b[39m \u001b[33;03m    :rtype: requests.Response\u001b[39;00m\n\u001b[32m     71\u001b[39m \u001b[33;03m    \"\"\"\u001b[39;00m\n\u001b[32m---> \u001b[39m\u001b[32m73\u001b[39m     \u001b[38;5;28;01mreturn\u001b[39;00m \u001b[43mrequest\u001b[49m\u001b[43m(\u001b[49m\u001b[33;43m\"\u001b[39;49m\u001b[33;43mget\u001b[39;49m\u001b[33;43m\"\u001b[39;49m\u001b[43m,\u001b[49m\u001b[43m \u001b[49m\u001b[43murl\u001b[49m\u001b[43m,\u001b[49m\u001b[43m \u001b[49m\u001b[43mparams\u001b[49m\u001b[43m=\u001b[49m\u001b[43mparams\u001b[49m\u001b[43m,\u001b[49m\u001b[43m \u001b[49m\u001b[43m*\u001b[49m\u001b[43m*\u001b[49m\u001b[43mkwargs\u001b[49m\u001b[43m)\u001b[49m\n",
      "\u001b[36mFile \u001b[39m\u001b[32mc:\\Users\\muthu\\Documents\\bfh\\BFH-offenburg-burda\\bfh\\Lib\\site-packages\\requests\\api.py:59\u001b[39m, in \u001b[36mrequest\u001b[39m\u001b[34m(method, url, **kwargs)\u001b[39m\n\u001b[32m     55\u001b[39m \u001b[38;5;66;03m# By using the 'with' statement we are sure the session is closed, thus we\u001b[39;00m\n\u001b[32m     56\u001b[39m \u001b[38;5;66;03m# avoid leaving sockets open which can trigger a ResourceWarning in some\u001b[39;00m\n\u001b[32m     57\u001b[39m \u001b[38;5;66;03m# cases, and look like a memory leak in others.\u001b[39;00m\n\u001b[32m     58\u001b[39m \u001b[38;5;28;01mwith\u001b[39;00m sessions.Session() \u001b[38;5;28;01mas\u001b[39;00m session:\n\u001b[32m---> \u001b[39m\u001b[32m59\u001b[39m     \u001b[38;5;28;01mreturn\u001b[39;00m \u001b[43msession\u001b[49m\u001b[43m.\u001b[49m\u001b[43mrequest\u001b[49m\u001b[43m(\u001b[49m\u001b[43mmethod\u001b[49m\u001b[43m=\u001b[49m\u001b[43mmethod\u001b[49m\u001b[43m,\u001b[49m\u001b[43m \u001b[49m\u001b[43murl\u001b[49m\u001b[43m=\u001b[49m\u001b[43murl\u001b[49m\u001b[43m,\u001b[49m\u001b[43m \u001b[49m\u001b[43m*\u001b[49m\u001b[43m*\u001b[49m\u001b[43mkwargs\u001b[49m\u001b[43m)\u001b[49m\n",
      "\u001b[36mFile \u001b[39m\u001b[32mc:\\Users\\muthu\\Documents\\bfh\\BFH-offenburg-burda\\bfh\\Lib\\site-packages\\requests\\sessions.py:575\u001b[39m, in \u001b[36mSession.request\u001b[39m\u001b[34m(self, method, url, params, data, headers, cookies, files, auth, timeout, allow_redirects, proxies, hooks, stream, verify, cert, json)\u001b[39m\n\u001b[32m    562\u001b[39m \u001b[38;5;66;03m# Create the Request.\u001b[39;00m\n\u001b[32m    563\u001b[39m req = Request(\n\u001b[32m    564\u001b[39m     method=method.upper(),\n\u001b[32m    565\u001b[39m     url=url,\n\u001b[32m   (...)\u001b[39m\u001b[32m    573\u001b[39m     hooks=hooks,\n\u001b[32m    574\u001b[39m )\n\u001b[32m--> \u001b[39m\u001b[32m575\u001b[39m prep = \u001b[38;5;28;43mself\u001b[39;49m\u001b[43m.\u001b[49m\u001b[43mprepare_request\u001b[49m\u001b[43m(\u001b[49m\u001b[43mreq\u001b[49m\u001b[43m)\u001b[49m\n\u001b[32m    577\u001b[39m proxies = proxies \u001b[38;5;129;01mor\u001b[39;00m {}\n\u001b[32m    579\u001b[39m settings = \u001b[38;5;28mself\u001b[39m.merge_environment_settings(\n\u001b[32m    580\u001b[39m     prep.url, proxies, stream, verify, cert\n\u001b[32m    581\u001b[39m )\n",
      "\u001b[36mFile \u001b[39m\u001b[32mc:\\Users\\muthu\\Documents\\bfh\\BFH-offenburg-burda\\bfh\\Lib\\site-packages\\requests\\sessions.py:484\u001b[39m, in \u001b[36mSession.prepare_request\u001b[39m\u001b[34m(self, request)\u001b[39m\n\u001b[32m    481\u001b[39m     auth = get_netrc_auth(request.url)\n\u001b[32m    483\u001b[39m p = PreparedRequest()\n\u001b[32m--> \u001b[39m\u001b[32m484\u001b[39m \u001b[43mp\u001b[49m\u001b[43m.\u001b[49m\u001b[43mprepare\u001b[49m\u001b[43m(\u001b[49m\n\u001b[32m    485\u001b[39m \u001b[43m    \u001b[49m\u001b[43mmethod\u001b[49m\u001b[43m=\u001b[49m\u001b[43mrequest\u001b[49m\u001b[43m.\u001b[49m\u001b[43mmethod\u001b[49m\u001b[43m.\u001b[49m\u001b[43mupper\u001b[49m\u001b[43m(\u001b[49m\u001b[43m)\u001b[49m\u001b[43m,\u001b[49m\n\u001b[32m    486\u001b[39m \u001b[43m    \u001b[49m\u001b[43murl\u001b[49m\u001b[43m=\u001b[49m\u001b[43mrequest\u001b[49m\u001b[43m.\u001b[49m\u001b[43murl\u001b[49m\u001b[43m,\u001b[49m\n\u001b[32m    487\u001b[39m \u001b[43m    \u001b[49m\u001b[43mfiles\u001b[49m\u001b[43m=\u001b[49m\u001b[43mrequest\u001b[49m\u001b[43m.\u001b[49m\u001b[43mfiles\u001b[49m\u001b[43m,\u001b[49m\n\u001b[32m    488\u001b[39m \u001b[43m    \u001b[49m\u001b[43mdata\u001b[49m\u001b[43m=\u001b[49m\u001b[43mrequest\u001b[49m\u001b[43m.\u001b[49m\u001b[43mdata\u001b[49m\u001b[43m,\u001b[49m\n\u001b[32m    489\u001b[39m \u001b[43m    \u001b[49m\u001b[43mjson\u001b[49m\u001b[43m=\u001b[49m\u001b[43mrequest\u001b[49m\u001b[43m.\u001b[49m\u001b[43mjson\u001b[49m\u001b[43m,\u001b[49m\n\u001b[32m    490\u001b[39m \u001b[43m    \u001b[49m\u001b[43mheaders\u001b[49m\u001b[43m=\u001b[49m\u001b[43mmerge_setting\u001b[49m\u001b[43m(\u001b[49m\n\u001b[32m    491\u001b[39m \u001b[43m        \u001b[49m\u001b[43mrequest\u001b[49m\u001b[43m.\u001b[49m\u001b[43mheaders\u001b[49m\u001b[43m,\u001b[49m\u001b[43m \u001b[49m\u001b[38;5;28;43mself\u001b[39;49m\u001b[43m.\u001b[49m\u001b[43mheaders\u001b[49m\u001b[43m,\u001b[49m\u001b[43m \u001b[49m\u001b[43mdict_class\u001b[49m\u001b[43m=\u001b[49m\u001b[43mCaseInsensitiveDict\u001b[49m\n\u001b[32m    492\u001b[39m \u001b[43m    \u001b[49m\u001b[43m)\u001b[49m\u001b[43m,\u001b[49m\n\u001b[32m    493\u001b[39m \u001b[43m    \u001b[49m\u001b[43mparams\u001b[49m\u001b[43m=\u001b[49m\u001b[43mmerge_setting\u001b[49m\u001b[43m(\u001b[49m\u001b[43mrequest\u001b[49m\u001b[43m.\u001b[49m\u001b[43mparams\u001b[49m\u001b[43m,\u001b[49m\u001b[43m \u001b[49m\u001b[38;5;28;43mself\u001b[39;49m\u001b[43m.\u001b[49m\u001b[43mparams\u001b[49m\u001b[43m)\u001b[49m\u001b[43m,\u001b[49m\n\u001b[32m    494\u001b[39m \u001b[43m    \u001b[49m\u001b[43mauth\u001b[49m\u001b[43m=\u001b[49m\u001b[43mmerge_setting\u001b[49m\u001b[43m(\u001b[49m\u001b[43mauth\u001b[49m\u001b[43m,\u001b[49m\u001b[43m \u001b[49m\u001b[38;5;28;43mself\u001b[39;49m\u001b[43m.\u001b[49m\u001b[43mauth\u001b[49m\u001b[43m)\u001b[49m\u001b[43m,\u001b[49m\n\u001b[32m    495\u001b[39m \u001b[43m    \u001b[49m\u001b[43mcookies\u001b[49m\u001b[43m=\u001b[49m\u001b[43mmerged_cookies\u001b[49m\u001b[43m,\u001b[49m\n\u001b[32m    496\u001b[39m \u001b[43m    \u001b[49m\u001b[43mhooks\u001b[49m\u001b[43m=\u001b[49m\u001b[43mmerge_hooks\u001b[49m\u001b[43m(\u001b[49m\u001b[43mrequest\u001b[49m\u001b[43m.\u001b[49m\u001b[43mhooks\u001b[49m\u001b[43m,\u001b[49m\u001b[43m \u001b[49m\u001b[38;5;28;43mself\u001b[39;49m\u001b[43m.\u001b[49m\u001b[43mhooks\u001b[49m\u001b[43m)\u001b[49m\u001b[43m,\u001b[49m\n\u001b[32m    497\u001b[39m \u001b[43m\u001b[49m\u001b[43m)\u001b[49m\n\u001b[32m    498\u001b[39m \u001b[38;5;28;01mreturn\u001b[39;00m p\n",
      "\u001b[36mFile \u001b[39m\u001b[32mc:\\Users\\muthu\\Documents\\bfh\\BFH-offenburg-burda\\bfh\\Lib\\site-packages\\requests\\models.py:367\u001b[39m, in \u001b[36mPreparedRequest.prepare\u001b[39m\u001b[34m(self, method, url, headers, files, data, params, auth, cookies, hooks, json)\u001b[39m\n\u001b[32m    364\u001b[39m \u001b[38;5;250m\u001b[39m\u001b[33;03m\"\"\"Prepares the entire request with the given parameters.\"\"\"\u001b[39;00m\n\u001b[32m    366\u001b[39m \u001b[38;5;28mself\u001b[39m.prepare_method(method)\n\u001b[32m--> \u001b[39m\u001b[32m367\u001b[39m \u001b[38;5;28;43mself\u001b[39;49m\u001b[43m.\u001b[49m\u001b[43mprepare_url\u001b[49m\u001b[43m(\u001b[49m\u001b[43murl\u001b[49m\u001b[43m,\u001b[49m\u001b[43m \u001b[49m\u001b[43mparams\u001b[49m\u001b[43m)\u001b[49m\n\u001b[32m    368\u001b[39m \u001b[38;5;28mself\u001b[39m.prepare_headers(headers)\n\u001b[32m    369\u001b[39m \u001b[38;5;28mself\u001b[39m.prepare_cookies(cookies)\n",
      "\u001b[36mFile \u001b[39m\u001b[32mc:\\Users\\muthu\\Documents\\bfh\\BFH-offenburg-burda\\bfh\\Lib\\site-packages\\requests\\models.py:438\u001b[39m, in \u001b[36mPreparedRequest.prepare_url\u001b[39m\u001b[34m(self, url, params)\u001b[39m\n\u001b[32m    435\u001b[39m     \u001b[38;5;28;01mraise\u001b[39;00m InvalidURL(*e.args)\n\u001b[32m    437\u001b[39m \u001b[38;5;28;01mif\u001b[39;00m \u001b[38;5;129;01mnot\u001b[39;00m scheme:\n\u001b[32m--> \u001b[39m\u001b[32m438\u001b[39m     \u001b[38;5;28;01mraise\u001b[39;00m MissingSchema(\n\u001b[32m    439\u001b[39m         \u001b[33mf\u001b[39m\u001b[33m\"\u001b[39m\u001b[33mInvalid URL \u001b[39m\u001b[38;5;132;01m{\u001b[39;00murl\u001b[38;5;132;01m!r}\u001b[39;00m\u001b[33m: No scheme supplied. \u001b[39m\u001b[33m\"\u001b[39m\n\u001b[32m    440\u001b[39m         \u001b[33mf\u001b[39m\u001b[33m\"\u001b[39m\u001b[33mPerhaps you meant https://\u001b[39m\u001b[38;5;132;01m{\u001b[39;00murl\u001b[38;5;132;01m}\u001b[39;00m\u001b[33m?\u001b[39m\u001b[33m\"\u001b[39m\n\u001b[32m    441\u001b[39m     )\n\u001b[32m    443\u001b[39m \u001b[38;5;28;01mif\u001b[39;00m \u001b[38;5;129;01mnot\u001b[39;00m host:\n\u001b[32m    444\u001b[39m     \u001b[38;5;28;01mraise\u001b[39;00m InvalidURL(\u001b[33mf\u001b[39m\u001b[33m\"\u001b[39m\u001b[33mInvalid URL \u001b[39m\u001b[38;5;132;01m{\u001b[39;00murl\u001b[38;5;132;01m!r}\u001b[39;00m\u001b[33m: No host supplied\u001b[39m\u001b[33m\"\u001b[39m)\n",
      "\u001b[31mMissingSchema\u001b[39m: Invalid URL '': No scheme supplied. Perhaps you meant https://?"
     ]
    }
   ],
   "source": [
    "url = \"\"\n",
    "load_dotenv()\n",
    "API_KEY = os.getenv(\"API_KEY\")\n",
    "header = {\"Authorization\":API_KEY}\n",
    "data = {\"item\":\"\"}\n",
    "incoming = requests.get(url,headers=header,data=data)\n",
    "if incoming.status_code==200:\n",
    "    print(incoming.json())"
   ]
  },
  {
   "cell_type": "markdown",
   "id": "a1b6131c",
   "metadata": {},
   "source": [
    "Translating text from German to English\n"
   ]
  },
  {
   "cell_type": "code",
   "execution_count": 451,
   "id": "bad51bb5",
   "metadata": {},
   "outputs": [],
   "source": [
    "from transformers import MarianMTModel, MarianTokenizer"
   ]
  },
  {
   "cell_type": "code",
   "execution_count": 452,
   "id": "f9f4a836",
   "metadata": {},
   "outputs": [
    {
     "name": "stderr",
     "output_type": "stream",
     "text": [
      "c:\\Users\\muthu\\Documents\\bfh\\BFH-offenburg-burda\\bfh\\Lib\\site-packages\\transformers\\models\\marian\\tokenization_marian.py:175: UserWarning: Recommended: pip install sacremoses.\n",
      "  warnings.warn(\"Recommended: pip install sacremoses.\")\n"
     ]
    }
   ],
   "source": [
    "model_name = 'Helsinki-NLP/opus-mt-de-en'\n",
    "tokenizer = MarianTokenizer.from_pretrained(model_name)\n",
    "model = MarianMTModel.from_pretrained(model_name)\n"
   ]
  },
  {
   "cell_type": "code",
   "execution_count": 453,
   "id": "6762033e",
   "metadata": {},
   "outputs": [],
   "source": [
    "def translate(text):\n",
    "    # Tokenize the input text\n",
    "    tokenized_text = tokenizer.prepare_seq2seq_batch([text], return_tensors='pt')\n",
    "    \n",
    "    # Perform the translation\n",
    "    translation = model.generate(**tokenized_text)\n",
    "    \n",
    "    # Decode the translated text\n",
    "    translated_text = tokenizer.decode(translation[0], skip_special_tokens=True)\n",
    "    \n",
    "    return translated_text"
   ]
  },
  {
   "cell_type": "code",
   "execution_count": null,
   "id": "29973348",
   "metadata": {},
   "outputs": [
    {
     "name": "stdout",
     "output_type": "stream",
     "text": [
      "Single recipe: ['Marzipan', 'Weizenmehl (Type 405)', 'Trockenhefe', 'Zucker', 'Vanillezucker', 'gemahlenen Mandeln', 'Stollengewürz', 'pflanzliche Milch', 'vegane Butter (Zimmertemperatur)', 'Rosinen', 'Orangeat', 'Zitronat', 'Saft (oder Rum)', 'Etwas Mehl zum Arbeiten', 'Puderzucker', 'Vanillinzucker', 'gemahlene Mandeln', 'veganeButter (Zimmertemperatur)', 'EtwasMehl zum Arbeiten']\n",
      "Global: ['Marzipan', 'Weizenmehl (Type 405)', 'Trockenhefe', 'Zucker', 'Vanillezucker', 'gemahlenen Mandeln', 'Stollengewürz', 'pflanzliche Milch', 'vegane Butter (Zimmertemperatur)', 'Rosinen', 'Orangeat', 'Zitronat', 'Saft (oder Rum)', 'Etwas Mehl zum Arbeiten', 'Puderzucker', 'Vanillinzucker', 'gemahlene Mandeln', 'veganeButter (Zimmertemperatur)', 'EtwasMehl zum Arbeiten', 'Ei (Größe M)'] ... (743 total)\n",
      "Recipes found: ['Veganes Stollenkonfekt', 'Wickeltorte', 'Orangen-Dessert mit Joghurt']\n"
     ]
    }
   ],
   "source": [
    "import json\n",
    "import re\n",
    "from typing import List, Dict, Any, Iterable\n",
    "\n",
    "# --- basic helpers ---\n",
    "def clean_spaces(s: str) -> str:\n",
    "    \"\"\"Collapse multiple spaces and trim.\"\"\"\n",
    "    return re.sub(r\"\\s+\", \" \", s).strip()\n",
    "\n",
    "def join_ingredient_parts(item: dict) -> str:\n",
    "    \"\"\"Build a readable ingredient string including prefix/suffix if available.\"\"\"\n",
    "    prefix = item.get(\"prefix\") or \"\"\n",
    "    name = (item.get(\"ingredient\") or {}).get(\"name\", \"\") or \"\"\n",
    "    suffix = item.get(\"suffix\") or \"\"\n",
    "    text = clean_spaces(f\"{prefix}{name}\")\n",
    "    if suffix:\n",
    "        text = clean_spaces(f\"{text} {suffix}\")\n",
    "    return text\n",
    "def join_quantity(item:dict):\n",
    "    quantity = item.get(\"quantity\") or \"\"\n",
    "    unit = (item.get(\"unit\") or {}).get(\"name\",\"\") or \"\"\n",
    "    text = clean_spaes(f\"{quantity}{unit}\")\n",
    "    return text\n",
    "\n",
    "def iter_ingredients(recipe: dict) -> Iterable[dict]:\n",
    "    \"\"\"Iterate through all ingredient items in a recipe.\"\"\"\n",
    "    for block in recipe.get(\"ingredientBlocks\", []):\n",
    "        for it in block.get(\"ingredients\", []):\n",
    "            yield it\n",
    "    # some recipes also have ingredients listed inside content sections\n",
    "    for section in recipe.get(\"content\", []):\n",
    "        for it in section.get(\"ingredients\", []) or []:\n",
    "            yield it\n",
    "\n",
    "def dedup_keep_order(items: List[str]) -> List[str]:\n",
    "    \"\"\"Remove duplicates but keep the original order.\"\"\"\n",
    "    seen = set()\n",
    "    result = []\n",
    "    for x in items:\n",
    "        key = x.lower()\n",
    "        if key not in seen:\n",
    "            seen.add(key)\n",
    "            result.append(x)\n",
    "    return result\n",
    "\n",
    "\n",
    "# --- load the JSON file ---\n",
    "with open(\"einfachbacken_export_200_recipes_1.json\", \"r\", encoding=\"utf-8\") as f:\n",
    "    data = json.load(f)\n",
    "\n",
    "recipes: List[Dict[str, Any]] = data.get(\"data\", {}).get(\"recipeExport\", [])\n",
    "\n",
    "\n",
    "# --- single recipe ---\n",
    "def ingredients_for_recipe(recipes: List[dict], recipe_name: str, dedup: bool = True) -> List[str]:\n",
    "    recipe = next((r for r in recipes if r.get(\"name\") == recipe_name), None)\n",
    "    if not recipe:\n",
    "        return []\n",
    "    items = [join_ingredient_parts(it) for it in iter_ingredients(recipe)]\n",
    "    \n",
    "    return dedup_keep_order(items) if dedup else items\n",
    "# --- all recipes combined ---\n",
    "def ingredients_global(recipes: List[dict], dedup: bool = True) -> List[str]:\n",
    "    items = []\n",
    "    for r in recipes:\n",
    "        items.extend(join_ingredient_parts(it) for it in iter_ingredients(r))\n",
    "    return dedup_keep_order(items) if dedup else items\n",
    "\n",
    "\n",
    "# --- per-recipe dictionary ---\n",
    "def ingredients_per_recipe(recipes: List[dict], dedup: bool = True) -> Dict[str, List[str]]:\n",
    "    result = {}\n",
    "    for r in recipes:\n",
    "        items = [join_ingredient_parts(it) for it in iter_ingredients(r)]\n",
    "        result[r.get(\"name\", \"Unnamed\")] = dedup_keep_order(items) if dedup else items\n",
    "    return result\n",
    "\n",
    "\n",
    "# --- example usage ---\n",
    "one_recipe = ingredients_for_recipe(recipes, \"Veganes Stollenkonfekt\")\n",
    "print(\"Single recipe:\", one_recipe)\n",
    "\n",
    "all_ingredients = ingredients_global(recipes)\n",
    "print(\"Global:\", all_ingredients[:20], f\"... ({len(all_ingredients)} total)\")\n",
    "\n",
    "by_recipe = ingredients_per_recipe(recipes)\n",
    "print(\"Recipes found:\", list(by_recipe.keys())[:3])"
   ]
  },
  {
   "cell_type": "code",
   "execution_count": 455,
   "id": "97504852",
   "metadata": {},
   "outputs": [
    {
     "name": "stdout",
     "output_type": "stream",
     "text": [
      "{'Zwiebel': '600 g', 'etwas Butterschmalz (oder Sonnenblumenöl) zum Anbraten': '', 'gemischtes Gulaschfleisch': '600 g', 'Salz': '0.5 TL', 'Pfeffer': '0.5 TL', 'Zucker': '1 TL', 'Rotwein': '300 ml', 'Paprikapulver (edelsüß)': '2 TL', 'Paprikapulver (rosenscharf)': '1 TL', 'getrockneter Majoran': '1 TL', 'gemahlener Kümmel': '1 TL', 'Wasser': '1 Liter', 'Essig': '1 EL', 'Petersilie': '1 Bd.', 'etwas Butterschmalz (oder Sonnenblumenöl)': '', 'etwas Salz': ''}\n",
      "['Klassisches Gulasch', 'Smørrebrød', 'Gurken-Sushi', 'Pfannkuchen-Raclette', 'Steak au four', 'Spitzkohl aus dem Ofen', 'Pfirsich-Dessert ', 'Piccata Milanese', 'Würzfleisch', 'Tortellini in Schinken-Sahne-Soße']\n"
     ]
    }
   ],
   "source": [
    "import re\n",
    "import json\n",
    "from typing import List, Dict, Any, Iterable\n",
    "\n",
    "# --- basic helpers (same as before, with the typo fixed) ---\n",
    "def clean_spaces(s: str) -> str:\n",
    "    return re.sub(r\"\\s+\", \" \", str(s)).strip()\n",
    "\n",
    "def join_ingredient_parts(item: dict) -> str:\n",
    "    prefix = item.get(\"prefix\") or \"\"\n",
    "    name = (item.get(\"ingredient\") or {}).get(\"name\", \"\") or \"\"\n",
    "    suffix = item.get(\"suffix\") or \"\"\n",
    "    text = clean_spaces(f\"{prefix} {name}\")\n",
    "    if suffix:\n",
    "        text = clean_spaces(f\"{text} {suffix}\")\n",
    "    return text\n",
    "\n",
    "def extract_quantity_unit(item: dict) -> str:\n",
    "    q = item.get(\"quantity\")\n",
    "    q_str = \"\" if q in (None, \"\") else str(q)\n",
    "    unit_obj = item.get(\"unit\") or {}\n",
    "    unit = unit_obj.get(\"name\") or unit_obj.get(\"short\") or unit_obj.get(\"abbreviation\") or \"\"\n",
    "    return clean_spaces(f\"{q_str} {unit}\")  # e.g. \"200 g\" or \"\" if none\n",
    "\n",
    "def join_quantity(item: dict) -> str:\n",
    "    return extract_quantity_unit(item)\n",
    "\n",
    "def iter_ingredients(recipe: dict) -> Iterable[dict]:\n",
    "    for block in recipe.get(\"ingredientBlocks\", []):\n",
    "        for it in block.get(\"ingredients\", []):\n",
    "            yield it\n",
    "    for section in recipe.get(\"content\", []) or []:\n",
    "        for it in section.get(\"ingredients\", []) or []:\n",
    "            yield it\n",
    "\n",
    "# --- load your JSON export (adjust filename as needed) ---\n",
    "with open(\"einfachkochen_export_800_recipes_1.json\", \"r\", encoding=\"utf-8\") as f:\n",
    "    data = json.load(f)\n",
    "recipes: List[Dict[str, Any]] = data.get(\"data\", {}).get(\"recipeExport\", [])\n",
    "\n",
    "# --- NEW: dict of {ingredient: quantity} for ONE recipe ---\n",
    "def ingredients_qty_dict_for_recipe(recipes: List[dict], recipe_name: str) -> Dict[str, str]:\n",
    "    \"\"\"\n",
    "    Returns: { \"Sugar\": \"200 g\", \"Milk\": \"100 ml\", \"Egg\": \"2\" , ... }\n",
    "    If an ingredient appears multiple times, the last one wins.\n",
    "    \"\"\"\n",
    "    recipe = next((r for r in recipes if r.get(\"name\") == recipe_name), None)\n",
    "    if not recipe:\n",
    "        return {}\n",
    "    out: Dict[str, str] = {}\n",
    "    for it in iter_ingredients(recipe):\n",
    "        ing = join_ingredient_parts(it)\n",
    "        qty = join_quantity(it)  # already \"number unit\" or \"\"\n",
    "        out[ing] = qty\n",
    "    return out\n",
    "\n",
    "# --- OPTIONAL: dict of recipe -> {ingredient: quantity} for ALL recipes ---\n",
    "def ingredients_qty_dicts_all(recipes: List[dict]) -> Dict[str, Dict[str, str]]:\n",
    "    out: Dict[str, Dict[str, str]] = {}\n",
    "    for r in recipes:\n",
    "        rname = r.get(\"name\", \"Unnamed\")\n",
    "        d: Dict[str, str] = {}\n",
    "        for it in iter_ingredients(r):\n",
    "            ing = join_ingredient_parts(it)\n",
    "            qty = join_quantity(it)\n",
    "            d[ing] = qty\n",
    "        out[rname] = d\n",
    "    return out\n",
    "\n",
    "# --- example usage ---\n",
    "one_recipe_map = ingredients_qty_dict_for_recipe(recipes, \"Klassisches Gulasch\")\n",
    "print(one_recipe_map)  # {'Mehl': '300 g', 'Zucker': '120 g', ...}\n",
    "\n",
    "all_recipes_map = ingredients_qty_dicts_all(recipes)\n",
    "print(list(all_recipes_map.keys())[0:10])\n"
   ]
  },
  {
   "cell_type": "code",
   "execution_count": 456,
   "id": "90d83b55",
   "metadata": {},
   "outputs": [],
   "source": [
    "translated_texts_all = []"
   ]
  },
  {
   "cell_type": "code",
   "execution_count": 457,
   "id": "4e707e02",
   "metadata": {},
   "outputs": [],
   "source": [
    "for src_texts in one_recipe_map.keys():\n",
    "    inputs = tokenizer(src_texts, return_tensors=\"pt\", padding=True, truncation=True)\n",
    "    translated = model.generate(**inputs)\n",
    "\n",
    "    # Decode and print result\n",
    "    translated_texts = tokenizer.batch_decode(translated, skip_special_tokens=True)\n",
    "    # print(translated_texts[0])\n",
    "    translated_texts_all.append(translated_texts[0])"
   ]
  },
  {
   "cell_type": "code",
   "execution_count": 458,
   "id": "518e4b1d",
   "metadata": {},
   "outputs": [
    {
     "data": {
      "text/plain": [
       "['Onion',\n",
       " 'a little butter malt (or sunflower oil) to fry',\n",
       " 'Mixed goulash meat',\n",
       " 'Salt',\n",
       " 'Pepper',\n",
       " 'Sugar',\n",
       " 'Red wine',\n",
       " 'Pepper powder (sweet)',\n",
       " 'Pepper powder (pink)',\n",
       " 'Dried marjoram',\n",
       " 'Ground caraway',\n",
       " 'Water',\n",
       " 'Vinegar',\n",
       " 'Parsley',\n",
       " 'a little butter malt (or sunflower oil)',\n",
       " 'a little salt']"
      ]
     },
     "execution_count": 458,
     "metadata": {},
     "output_type": "execute_result"
    }
   ],
   "source": [
    "translated_texts_all"
   ]
  },
  {
   "cell_type": "code",
   "execution_count": 459,
   "id": "f20def1e",
   "metadata": {},
   "outputs": [],
   "source": [
    "old_keys = list(one_recipe_map)  # preserves order of insertion\n",
    "new_keys = translated_texts_all  # same length as old_keys\n",
    "\n",
    "# 1) safest: build a new dict\n",
    "renamed = {new: one_recipe_map[old] for old, new in zip(old_keys, new_keys)}"
   ]
  },
  {
   "cell_type": "code",
   "execution_count": 460,
   "id": "b48e49c3",
   "metadata": {},
   "outputs": [],
   "source": [
    "one_recipe_map = renamed"
   ]
  },
  {
   "cell_type": "code",
   "execution_count": 461,
   "id": "6f69098c",
   "metadata": {},
   "outputs": [],
   "source": [
    "import re\n",
    "\n",
    "pck = 7  # adjust if you like\n",
    "TL_G = 5\n",
    "EL_G = 15\n",
    "def quantity_conversion(quantity: str):\n",
    "    s = quantity.strip().lower()\n",
    "    # grab the first number (works for \"100 g\", \"100g\", \"1.5 kg\", \"250ml\")\n",
    "    m = re.search(r'([\\d.,]+)', s)\n",
    "    if not m:\n",
    "        return None\n",
    "    n = float(m.group(1).replace(',', '.'))  # <- n is just the number part\n",
    "\n",
    "    # convert to kg (simple assumptions)\n",
    "    if 'kg' in s:\n",
    "        convert = n\n",
    "    elif 'g' in s:\n",
    "        convert = n / 1000.0\n",
    "    elif 'ml' in s:\n",
    "        convert = n / 1000.0   # assume 1 ml ~ 1 g ~ 0.001 kg\n",
    "    elif 'l' in s:\n",
    "        convert = n \n",
    "    elif \" tl\" in s or s.endswith(\"tl\"):\n",
    "        convert = (n * TL_G) / 1000.0\n",
    "    elif \" el\" in s or s.endswith(\"el\"):\n",
    "        convert = (n * EL_G) / 1000.0\n",
    "    elif \" pck\" in s:\n",
    "        convert = (n * pck) / 1000.0           # assume 1 L ~ 1 kg\n",
    "    else:\n",
    "        convert = n * 0.1         # unknown unit\n",
    "\n",
    "    return convert\n"
   ]
  },
  {
   "cell_type": "code",
   "execution_count": 462,
   "id": "77ae35dc",
   "metadata": {},
   "outputs": [],
   "source": [
    "import pandas as pd\n",
    "from rapidfuzz import process, fuzz\n"
   ]
  },
  {
   "cell_type": "code",
   "execution_count": 463,
   "id": "e3cf381c",
   "metadata": {},
   "outputs": [],
   "source": [
    "df = pd.read_csv(r\"C:\\Users\\muthu\\Documents\\bfh\\BFH-offenburg-burda\\final_co2_emissions_only_germany.csv\",encoding=\"cp1252\")\n",
    "\n"
   ]
  },
  {
   "cell_type": "code",
   "execution_count": 464,
   "id": "4145603f",
   "metadata": {},
   "outputs": [],
   "source": [
    "df = df.rename(columns={'Emissions (CO2 eq/kg)':'Emissions'})"
   ]
  },
  {
   "cell_type": "code",
   "execution_count": 465,
   "id": "230d1e51",
   "metadata": {},
   "outputs": [],
   "source": [
    "def normalize(word):\n",
    "    if isinstance(word,str):\n",
    "\n",
    "        word = word.lower()\n",
    "        word = word.split(\",\",1)[0]\n",
    "        \n",
    "    else:\n",
    "        word = \"\"\n",
    "    return word\n",
    "\n",
    "df[\"norm\"] = df[\"Product\"].map(normalize)\n"
   ]
  },
  {
   "cell_type": "code",
   "execution_count": 466,
   "id": "e545b1e6",
   "metadata": {},
   "outputs": [],
   "source": [
    "from sentence_transformers import SentenceTransformer\n",
    "import numpy as np\n",
    "import faiss"
   ]
  },
  {
   "cell_type": "code",
   "execution_count": 467,
   "id": "686a8f6b",
   "metadata": {},
   "outputs": [],
   "source": [
    "model = SentenceTransformer(\"all-MiniLM-L6-v2\")\n",
    "name_vecs = model.encode(df[\"norm\"].tolist(), normalize_embeddings=True).astype(\"float32\")\n",
    "index = faiss.IndexFlatIP(name_vecs.shape[1])   # inner product == cosine for normalized vectors\n",
    "index.add(name_vecs)"
   ]
  },
  {
   "cell_type": "code",
   "execution_count": null,
   "id": "57928ed3",
   "metadata": {},
   "outputs": [],
   "source": [
    "def embedding_lookup(name: str, addition, cos_cutoff=0.50):\n",
    "    q = model.encode([normalize(name)], normalize_embeddings=True).astype(\"float32\")\n",
    "    D, I = index.search(q, 1)  # top-1\n",
    "    sim = float(D[0][0])\n",
    "    if sim < cos_cutoff:\n",
    "        return None, 0.0, addition  # no match → 0 CO₂\n",
    "\n",
    "    idx = int(I[0][0])\n",
    "    row = df.iloc[idx]\n",
    "    kg_co2 = float(row[\"Emissions\"])\n",
    "\n",
    "    q_co2 = quantity_conversion(one_recipe_map[name])\n",
    "    if q_co2 is None:\n",
    "        return None, 0.0, addition  # missing quantity → 0 CO₂\n",
    "\n",
    "    total = kg_co2 * q_co2\n",
    "    addition += total\n",
    "\n",
    "    return row[\"norm\"], total, addition"
   ]
  },
  {
   "cell_type": "code",
   "execution_count": 412,
   "id": "9fec2401",
   "metadata": {},
   "outputs": [
    {
     "name": "stdout",
     "output_type": "stream",
     "text": [
      "onion 0.15 0.15\n",
      "a little butter malt (or sunflower oil) to fry 0 0.15\n",
      "minced meat (beef \n",
      "and pork) 3.3539999999999996 3.5039999999999996\n",
      "salt 0.25 3.7539999999999996\n",
      "pepper 0.32 4.074\n",
      "sugar 0.6 4.6739999999999995\n",
      "red wine 0.432 5.106\n",
      "sweet pepper 1.28 6.386\n",
      "pepper 0.64 7.026\n",
      "marjoram 0.9 7.926\n",
      "Ground caraway 0 7.926\n",
      "mineral water 0.2 8.126\n",
      "vinegar 0.46 8.586\n",
      "parsley 0.04000000000000001 8.626\n",
      "a little butter malt (or sunflower oil) 0 8.626\n",
      "a little salt 0 8.626\n"
     ]
    }
   ],
   "source": [
    "addition = 0\n",
    "ingredients_list = []\n",
    "co2_list = []\n",
    "for i in list(one_recipe_map):\n",
    "    \n",
    "    p,t,a = embedding_lookup(i,addition=addition)\n",
    "    addition = a\n",
    "    if p is None:\n",
    "        p = i\n",
    "        t = 0\n",
    "    print(p,t,a)\n",
    "    ingredients_list.append(p)\n",
    "    co2_list.append(t)"
   ]
  },
  {
   "cell_type": "markdown",
   "id": "3eec4f4c",
   "metadata": {},
   "source": [
    "which ingredient to swap?\n"
   ]
  },
  {
   "cell_type": "code",
   "execution_count": 424,
   "id": "cfb23856",
   "metadata": {},
   "outputs": [],
   "source": [
    "for i in range(len(co2_list)):\n",
    "    if (co2_list[i]/a)*100>15:\n",
    "        # print(i)\n",
    "        idx = i\n",
    "        \n",
    "ing_switch = ingredients_list[idx] "
   ]
  },
  {
   "cell_type": "code",
   "execution_count": 425,
   "id": "42b2c198",
   "metadata": {},
   "outputs": [
    {
     "data": {
      "text/plain": [
       "'minced meat (beef \\nand pork)'"
      ]
     },
     "execution_count": 425,
     "metadata": {},
     "output_type": "execute_result"
    }
   ],
   "source": [
    "ing_switch"
   ]
  },
  {
   "cell_type": "code",
   "execution_count": 519,
   "id": "737e255e",
   "metadata": {},
   "outputs": [],
   "source": [
    "co2_switch = co2_list[idx]"
   ]
  },
  {
   "cell_type": "code",
   "execution_count": 520,
   "id": "babd1a66",
   "metadata": {},
   "outputs": [
    {
     "data": {
      "text/plain": [
       "3.3539999999999996"
      ]
     },
     "execution_count": 520,
     "metadata": {},
     "output_type": "execute_result"
    }
   ],
   "source": [
    "co2_switch"
   ]
  },
  {
   "cell_type": "markdown",
   "id": "49fc0547",
   "metadata": {},
   "source": [
    "preparing df with macros\n"
   ]
  },
  {
   "cell_type": "code",
   "execution_count": 501,
   "id": "502348c1",
   "metadata": {},
   "outputs": [],
   "source": [
    "df_macros_all = pd.read_csv(r\"C:\\Users\\muthu\\Documents\\bfh\\BFH-offenburg-burda\\merged_semantic_ingredients.csv\")"
   ]
  },
  {
   "cell_type": "code",
   "execution_count": 502,
   "id": "6c3888f0",
   "metadata": {},
   "outputs": [],
   "source": [
    "df_macros = pd.DataFrame().assign(Product = df_macros_all[\"Product\"], protein = df_macros_all[\"protein\"], carbs = df_macros_all[\"carbohydrate\"],units= df_macros_all[\"mass_kg\"],co2_per_kg=df_macros_all[\"Emissions (CO2 eq/kg)\"])"
   ]
  },
  {
   "cell_type": "code",
   "execution_count": 503,
   "id": "bb95aba0",
   "metadata": {},
   "outputs": [
    {
     "data": {
      "text/html": [
       "<div>\n",
       "<style scoped>\n",
       "    .dataframe tbody tr th:only-of-type {\n",
       "        vertical-align: middle;\n",
       "    }\n",
       "\n",
       "    .dataframe tbody tr th {\n",
       "        vertical-align: top;\n",
       "    }\n",
       "\n",
       "    .dataframe thead th {\n",
       "        text-align: right;\n",
       "    }\n",
       "</style>\n",
       "<table border=\"1\" class=\"dataframe\">\n",
       "  <thead>\n",
       "    <tr style=\"text-align: right;\">\n",
       "      <th></th>\n",
       "      <th>Product</th>\n",
       "      <th>protein</th>\n",
       "      <th>carbs</th>\n",
       "      <th>units</th>\n",
       "      <th>co2_per_kg</th>\n",
       "    </tr>\n",
       "  </thead>\n",
       "  <tbody>\n",
       "    <tr>\n",
       "      <th>0</th>\n",
       "      <td>Agave syrup</td>\n",
       "      <td>0.09</td>\n",
       "      <td>76.37</td>\n",
       "      <td>1.0</td>\n",
       "      <td>3.07</td>\n",
       "    </tr>\n",
       "    <tr>\n",
       "      <th>1</th>\n",
       "      <td>Alfalfa sprouts</td>\n",
       "      <td>3.99</td>\n",
       "      <td>2.10</td>\n",
       "      <td>0.1</td>\n",
       "      <td>0.15</td>\n",
       "    </tr>\n",
       "    <tr>\n",
       "      <th>2</th>\n",
       "      <td>Almond, planed</td>\n",
       "      <td>0.00</td>\n",
       "      <td>0.00</td>\n",
       "      <td>0.1</td>\n",
       "      <td>2.06</td>\n",
       "    </tr>\n",
       "    <tr>\n",
       "      <th>3</th>\n",
       "      <td>Almond, planed</td>\n",
       "      <td>0.00</td>\n",
       "      <td>0.00</td>\n",
       "      <td>0.1</td>\n",
       "      <td>2.06</td>\n",
       "    </tr>\n",
       "    <tr>\n",
       "      <th>4</th>\n",
       "      <td>Almond cream</td>\n",
       "      <td>0.00</td>\n",
       "      <td>0.00</td>\n",
       "      <td>0.1</td>\n",
       "      <td>0.75</td>\n",
       "    </tr>\n",
       "    <tr>\n",
       "      <th>...</th>\n",
       "      <td>...</td>\n",
       "      <td>...</td>\n",
       "      <td>...</td>\n",
       "      <td>...</td>\n",
       "      <td>...</td>\n",
       "    </tr>\n",
       "    <tr>\n",
       "      <th>430</th>\n",
       "      <td>Wok noodles</td>\n",
       "      <td>5.06</td>\n",
       "      <td>21.44</td>\n",
       "      <td>0.1</td>\n",
       "      <td>0.46</td>\n",
       "    </tr>\n",
       "    <tr>\n",
       "      <th>431</th>\n",
       "      <td>Yeast</td>\n",
       "      <td>23.88</td>\n",
       "      <td>20.42</td>\n",
       "      <td>0.1</td>\n",
       "      <td>0.75</td>\n",
       "    </tr>\n",
       "    <tr>\n",
       "      <th>432</th>\n",
       "      <td>Yeast</td>\n",
       "      <td>23.88</td>\n",
       "      <td>20.42</td>\n",
       "      <td>0.1</td>\n",
       "      <td>0.75</td>\n",
       "    </tr>\n",
       "    <tr>\n",
       "      <th>433</th>\n",
       "      <td>Yoghurt, creamy</td>\n",
       "      <td>3.47</td>\n",
       "      <td>4.66</td>\n",
       "      <td>0.1</td>\n",
       "      <td>2.37</td>\n",
       "    </tr>\n",
       "    <tr>\n",
       "      <th>434</th>\n",
       "      <td>Yoghurt, Greek style</td>\n",
       "      <td>8.64</td>\n",
       "      <td>9.54</td>\n",
       "      <td>1.0</td>\n",
       "      <td>2.37</td>\n",
       "    </tr>\n",
       "  </tbody>\n",
       "</table>\n",
       "<p>435 rows × 5 columns</p>\n",
       "</div>"
      ],
      "text/plain": [
       "                  Product  protein  carbs  units  co2_per_kg\n",
       "0             Agave syrup     0.09  76.37    1.0        3.07\n",
       "1         Alfalfa sprouts     3.99   2.10    0.1        0.15\n",
       "2          Almond, planed     0.00   0.00    0.1        2.06\n",
       "3          Almond, planed     0.00   0.00    0.1        2.06\n",
       "4            Almond cream     0.00   0.00    0.1        0.75\n",
       "..                    ...      ...    ...    ...         ...\n",
       "430           Wok noodles     5.06  21.44    0.1        0.46\n",
       "431                 Yeast    23.88  20.42    0.1        0.75\n",
       "432                 Yeast    23.88  20.42    0.1        0.75\n",
       "433       Yoghurt, creamy     3.47   4.66    0.1        2.37\n",
       "434  Yoghurt, Greek style     8.64   9.54    1.0        2.37\n",
       "\n",
       "[435 rows x 5 columns]"
      ]
     },
     "execution_count": 503,
     "metadata": {},
     "output_type": "execute_result"
    }
   ],
   "source": [
    "df_macros"
   ]
  },
  {
   "cell_type": "code",
   "execution_count": 485,
   "id": "b9b0f5a2",
   "metadata": {},
   "outputs": [],
   "source": [
    "model = SentenceTransformer(\"all-MiniLM-L6-v2\")\n",
    "df_macros = df_macros.reset_index(drop=True)\n",
    "name_vecs = model.encode(df_macros[\"Product\"].tolist(), normalize_embeddings=True).astype(\"float32\")\n",
    "index = faiss.IndexFlatIP(name_vecs.shape[1])   # inner product == cosine for normalized vectors\n",
    "index.add(name_vecs)"
   ]
  },
  {
   "cell_type": "code",
   "execution_count": 486,
   "id": "495757cb",
   "metadata": {},
   "outputs": [],
   "source": [
    "def embedding_lookup(name: str, cos_cutoff=0.50):\n",
    "    q = model.encode([normalize(name)], normalize_embeddings=True).astype(\"float32\")\n",
    "    D, I = index.search(q, 1)  # top-1\n",
    "    sim = float(D[0][0])\n",
    "    if sim < cos_cutoff:\n",
    "        return None, 0.0, addition  # no match → 0 CO₂\n",
    "\n",
    "    idx = int(I[0][0])\n",
    "    row = df_macros.iloc[idx]\n",
    "    protein = float(row[\"protein\"])\n",
    "    carbs = float(row[\"carbs\"])\n",
    "    unit = float(row[\"units\"])\n",
    "\n",
    "    return row[\"Product\"], row[\"carbs\"] , row[\"protein\"], row[\"units\"]"
   ]
  },
  {
   "cell_type": "code",
   "execution_count": 487,
   "id": "75f6b520",
   "metadata": {},
   "outputs": [],
   "source": [
    "product, carbs, protein, units = embedding_lookup(ing_switch)"
   ]
  },
  {
   "cell_type": "code",
   "execution_count": 488,
   "id": "0590c62e",
   "metadata": {},
   "outputs": [
    {
     "data": {
      "text/plain": [
       "(np.float64(2.6), np.float64(11.5))"
      ]
     },
     "execution_count": 488,
     "metadata": {},
     "output_type": "execute_result"
    }
   ],
   "source": [
    "# before convertion\n",
    "carbs,protein"
   ]
  },
  {
   "cell_type": "code",
   "execution_count": 489,
   "id": "a5839054",
   "metadata": {},
   "outputs": [],
   "source": [
    "mu = list(one_recipe_map)[idx]"
   ]
  },
  {
   "cell_type": "code",
   "execution_count": 490,
   "id": "23e8e115",
   "metadata": {},
   "outputs": [],
   "source": [
    "quantity = one_recipe_map[mu]"
   ]
  },
  {
   "cell_type": "code",
   "execution_count": 491,
   "id": "6a579005",
   "metadata": {},
   "outputs": [],
   "source": [
    "s = quantity.strip().lower()\n",
    "# grab the first number (works for \"100 g\", \"100g\", \"1.5 kg\", \"250ml\")\n",
    "m = re.search(r'([\\d.,]+)', s)\n",
    "\n",
    "n = float(m.group(1).replace(',', '.'))"
   ]
  },
  {
   "cell_type": "code",
   "execution_count": 492,
   "id": "e2299299",
   "metadata": {},
   "outputs": [
    {
     "data": {
      "text/plain": [
       "600.0"
      ]
     },
     "execution_count": 492,
     "metadata": {},
     "output_type": "execute_result"
    }
   ],
   "source": [
    "n"
   ]
  },
  {
   "cell_type": "code",
   "execution_count": 493,
   "id": "515a35f9",
   "metadata": {},
   "outputs": [],
   "source": [
    "def convert(item, units):\n",
    "    item = ((n/1000)*units)*item\n",
    "    return item"
   ]
  },
  {
   "cell_type": "code",
   "execution_count": 494,
   "id": "74687cce",
   "metadata": {},
   "outputs": [],
   "source": [
    "carbs = convert(carbs,units)\n",
    "protein = convert(protein, units)"
   ]
  },
  {
   "cell_type": "code",
   "execution_count": 495,
   "id": "3428cbbd",
   "metadata": {},
   "outputs": [
    {
     "data": {
      "text/plain": [
       "(np.float64(1.56), np.float64(6.8999999999999995))"
      ]
     },
     "execution_count": 495,
     "metadata": {},
     "output_type": "execute_result"
    }
   ],
   "source": [
    "carbs, protein"
   ]
  },
  {
   "cell_type": "code",
   "execution_count": 525,
   "id": "c49c483b",
   "metadata": {},
   "outputs": [],
   "source": [
    "import pandas as pd\n",
    "import numpy as np\n",
    "\n",
    "def rank_alternatives(target_name: str,\n",
    "                      df: pd.DataFrame,\n",
    "                      w_co2=0.4, w_protein=0.5, w_carbs=0.2,\n",
    "                      top_n=5):\n",
    "    \"\"\"\n",
    "    Rank substitutes by combined CO₂ + nutritional similarity.\n",
    "    Columns needed: 'Product', 'co2_per_kg', 'protein', 'carbs'\n",
    "    \"\"\"\n",
    "    # 1️⃣ Get target row\n",
    "    target = df[df[\"Product\"].str.lower() == target_name.lower()]\n",
    "    if target.empty:\n",
    "        raise ValueError(f\"{target_name} not found in dataset.\")\n",
    "    target = target.iloc[0]\n",
    "    # print(target)\n",
    "    t_prot, t_carbs, t_co2 = target[\"protein\"], target[\"carbs\"], target[\"co2_per_kg\"]\n",
    "\n",
    "    # 2️⃣ Normalize columns for fair comparison\n",
    "    df = df.copy()\n",
    "    df[\"norm_co2\"] = df[\"co2_per_kg\"] / df[\"co2_per_kg\"].max()\n",
    "    df[\"protein_diff\"] = abs(df[\"protein\"] - t_prot) / df[\"protein\"].max()\n",
    "    df[\"carbs_diff\"]   = abs(df[\"carbs\"] - t_carbs) / df[\"carbs\"].max()\n",
    "\n",
    "    # 3️⃣ Weighted composite score (lower is better)\n",
    "    df[\"score\"] = (w_co2 * df[\"norm_co2\"] +\n",
    "                   w_protein * df[\"protein_diff\"] +\n",
    "                   w_carbs * df[\"carbs_diff\"])\n",
    "\n",
    "    # 4️⃣ Exclude target itself & only lower-CO₂ options\n",
    "    df = df[df[\"Product\"].str.lower() != target_name.lower()]\n",
    "    df = df[df[\"co2_per_kg\"] < t_co2]\n",
    "\n",
    "    # 5️⃣ Rank and return\n",
    "    best = df.sort_values(\"score\").head(top_n)\n",
    "    return best[[\"Product\", \"co2_per_kg\", \"protein\", \"carbs\", \"score\"]].reset_index(drop=True)\n"
   ]
  },
  {
   "cell_type": "code",
   "execution_count": 526,
   "id": "051adb29",
   "metadata": {},
   "outputs": [
    {
     "data": {
      "text/html": [
       "<div>\n",
       "<style scoped>\n",
       "    .dataframe tbody tr th:only-of-type {\n",
       "        vertical-align: middle;\n",
       "    }\n",
       "\n",
       "    .dataframe tbody tr th {\n",
       "        vertical-align: top;\n",
       "    }\n",
       "\n",
       "    .dataframe thead th {\n",
       "        text-align: right;\n",
       "    }\n",
       "</style>\n",
       "<table border=\"1\" class=\"dataframe\">\n",
       "  <thead>\n",
       "    <tr style=\"text-align: right;\">\n",
       "      <th></th>\n",
       "      <th>Product</th>\n",
       "      <th>co2_per_kg</th>\n",
       "      <th>protein</th>\n",
       "      <th>carbs</th>\n",
       "      <th>score</th>\n",
       "    </tr>\n",
       "  </thead>\n",
       "  <tbody>\n",
       "    <tr>\n",
       "      <th>0</th>\n",
       "      <td>Soy bean sprouts</td>\n",
       "      <td>0.15</td>\n",
       "      <td>13.09</td>\n",
       "      <td>9.57</td>\n",
       "      <td>0.034484</td>\n",
       "    </tr>\n",
       "    <tr>\n",
       "      <th>1</th>\n",
       "      <td>Mayonnaise, vegan</td>\n",
       "      <td>0.18</td>\n",
       "      <td>5.95</td>\n",
       "      <td>3.06</td>\n",
       "      <td>0.062128</td>\n",
       "    </tr>\n",
       "    <tr>\n",
       "      <th>2</th>\n",
       "      <td>Bratwurst (fried \\nsausage), vegan</td>\n",
       "      <td>1.66</td>\n",
       "      <td>13.72</td>\n",
       "      <td>2.85</td>\n",
       "      <td>0.073472</td>\n",
       "    </tr>\n",
       "    <tr>\n",
       "      <th>3</th>\n",
       "      <td>Hazelnuts</td>\n",
       "      <td>0.45</td>\n",
       "      <td>14.95</td>\n",
       "      <td>16.70</td>\n",
       "      <td>0.076578</td>\n",
       "    </tr>\n",
       "    <tr>\n",
       "      <th>4</th>\n",
       "      <td>Hazelnuts</td>\n",
       "      <td>0.45</td>\n",
       "      <td>14.95</td>\n",
       "      <td>16.70</td>\n",
       "      <td>0.076578</td>\n",
       "    </tr>\n",
       "  </tbody>\n",
       "</table>\n",
       "</div>"
      ],
      "text/plain": [
       "                              Product  co2_per_kg  protein  carbs     score\n",
       "0                    Soy bean sprouts        0.15    13.09   9.57  0.034484\n",
       "1                   Mayonnaise, vegan        0.18     5.95   3.06  0.062128\n",
       "2  Bratwurst (fried \\nsausage), vegan        1.66    13.72   2.85  0.073472\n",
       "3                           Hazelnuts        0.45    14.95  16.70  0.076578\n",
       "4                           Hazelnuts        0.45    14.95  16.70  0.076578"
      ]
     },
     "execution_count": 526,
     "metadata": {},
     "output_type": "execute_result"
    }
   ],
   "source": [
    "rank_alternatives(ing_switch,df_macros)"
   ]
  },
  {
   "cell_type": "code",
   "execution_count": 527,
   "id": "eba5893b",
   "metadata": {},
   "outputs": [],
   "source": [
    "import pandas as pd\n",
    "import numpy as np\n",
    "import re\n",
    "\n",
    "def rank_sustainable_protein_sources(df: pd.DataFrame,\n",
    "                                     target_name: str,\n",
    "                                     w_co2=0.6, w_protein=0.3, w_carbs=0.1,\n",
    "                                     min_protein=8, max_carbs=40,\n",
    "                                     banned_words=None,\n",
    "                                     top_n=10):\n",
    "    \"\"\"\n",
    "    Rank best overall ingredients balancing high protein, low CO₂, reasonable carbs.\n",
    "    df columns: ['Product', 'co2_per_kg', 'protein', 'carbs']\n",
    "    \"\"\"\n",
    "\n",
    "    # banned_words = banned_words or [\"sauce\", \"oil\", \"mayo\", \"cream\", \"butter\", \"hazelnut\", \"chocolate\", \"sugar\"]\n",
    "\n",
    "    # --- Clean dataset ---\n",
    "    df = df.copy()\n",
    "    df[\"Product_lower\"] = df[\"Product\"].str.lower()\n",
    "\n",
    "    # --- Filter unrealistic ingredients ---\n",
    "    # pattern = r\"|\".join([re.escape(w.lower()) for w in banned_words])\n",
    "    # df = df[~df[\"Product_lower\"].str.contains(pattern, regex=True, na=False)]\n",
    "\n",
    "    # --- Keep reasonable nutrition range ---\n",
    "    df = df[(df[\"protein\"] >= min_protein) & (df[\"carbs\"] <= max_carbs)]\n",
    "\n",
    "    # --- Normalize all metrics ---\n",
    "    df[\"norm_co2\"] = df[\"co2_per_kg\"] / df[\"co2_per_kg\"].max()\n",
    "    df[\"norm_protein\"] = df[\"protein\"] / df[\"protein\"].max()\n",
    "    df[\"norm_carbs\"] = 1 - (df[\"carbs\"] / df[\"carbs\"].max())  # lower carbs = better\n",
    "\n",
    "    # --- Composite score (higher is better) ---\n",
    "    # We invert CO₂ (1 - norm_co2) since low CO₂ is good.\n",
    "    df[\"score\"] = (w_co2 * (1 - df[\"norm_co2\"]) +\n",
    "                   w_protein * df[\"norm_protein\"] +\n",
    "                   w_carbs * df[\"norm_carbs\"])\n",
    "\n",
    "    # --- Target info (optional display) ---\n",
    "    target_row = df[df[\"Product_lower\"] == target_name.lower()]\n",
    "    if not target_row.empty:\n",
    "        print(f\"\\nTarget '{target_name}' stats:\")\n",
    "        print(target_row[[\"co2_per_kg\", \"protein\", \"carbs\"]])\n",
    "\n",
    "    # --- Sort by overall score ---\n",
    "    best = df.sort_values(\"score\", ascending=False).head(top_n)\n",
    "\n",
    "    return best[[\"Product\", \"co2_per_kg\", \"protein\", \"carbs\", \"score\"]].reset_index(drop=True)\n"
   ]
  },
  {
   "cell_type": "code",
   "execution_count": 529,
   "id": "af4954aa",
   "metadata": {},
   "outputs": [],
   "source": [
    "df_best = rank_alternatives(ing_switch,df_macros)"
   ]
  },
  {
   "cell_type": "code",
   "execution_count": 533,
   "id": "1d48ef18",
   "metadata": {},
   "outputs": [
    {
     "data": {
      "text/html": [
       "<div>\n",
       "<style scoped>\n",
       "    .dataframe tbody tr th:only-of-type {\n",
       "        vertical-align: middle;\n",
       "    }\n",
       "\n",
       "    .dataframe tbody tr th {\n",
       "        vertical-align: top;\n",
       "    }\n",
       "\n",
       "    .dataframe thead th {\n",
       "        text-align: right;\n",
       "    }\n",
       "</style>\n",
       "<table border=\"1\" class=\"dataframe\">\n",
       "  <thead>\n",
       "    <tr style=\"text-align: right;\">\n",
       "      <th></th>\n",
       "      <th>Product</th>\n",
       "      <th>co2_per_kg</th>\n",
       "      <th>protein</th>\n",
       "      <th>carbs</th>\n",
       "      <th>score</th>\n",
       "    </tr>\n",
       "  </thead>\n",
       "  <tbody>\n",
       "    <tr>\n",
       "      <th>0</th>\n",
       "      <td>Soy bean sprouts</td>\n",
       "      <td>0.15</td>\n",
       "      <td>13.09</td>\n",
       "      <td>9.57</td>\n",
       "      <td>0.034484</td>\n",
       "    </tr>\n",
       "    <tr>\n",
       "      <th>1</th>\n",
       "      <td>Mayonnaise, vegan</td>\n",
       "      <td>0.18</td>\n",
       "      <td>5.95</td>\n",
       "      <td>3.06</td>\n",
       "      <td>0.062128</td>\n",
       "    </tr>\n",
       "    <tr>\n",
       "      <th>2</th>\n",
       "      <td>Bratwurst (fried \\nsausage), vegan</td>\n",
       "      <td>1.66</td>\n",
       "      <td>13.72</td>\n",
       "      <td>2.85</td>\n",
       "      <td>0.073472</td>\n",
       "    </tr>\n",
       "    <tr>\n",
       "      <th>3</th>\n",
       "      <td>Hazelnuts</td>\n",
       "      <td>0.45</td>\n",
       "      <td>14.95</td>\n",
       "      <td>16.70</td>\n",
       "      <td>0.076578</td>\n",
       "    </tr>\n",
       "    <tr>\n",
       "      <th>4</th>\n",
       "      <td>Hazelnuts</td>\n",
       "      <td>0.45</td>\n",
       "      <td>14.95</td>\n",
       "      <td>16.70</td>\n",
       "      <td>0.076578</td>\n",
       "    </tr>\n",
       "  </tbody>\n",
       "</table>\n",
       "</div>"
      ],
      "text/plain": [
       "                              Product  co2_per_kg  protein  carbs     score\n",
       "0                    Soy bean sprouts        0.15    13.09   9.57  0.034484\n",
       "1                   Mayonnaise, vegan        0.18     5.95   3.06  0.062128\n",
       "2  Bratwurst (fried \\nsausage), vegan        1.66    13.72   2.85  0.073472\n",
       "3                           Hazelnuts        0.45    14.95  16.70  0.076578\n",
       "4                           Hazelnuts        0.45    14.95  16.70  0.076578"
      ]
     },
     "execution_count": 533,
     "metadata": {},
     "output_type": "execute_result"
    }
   ],
   "source": [
    "df_best"
   ]
  },
  {
   "cell_type": "code",
   "execution_count": 532,
   "id": "2e59f840",
   "metadata": {},
   "outputs": [
    {
     "data": {
      "text/plain": [
       "'Soy bean sprouts'"
      ]
     },
     "execution_count": 532,
     "metadata": {},
     "output_type": "execute_result"
    }
   ],
   "source": [
    "df_best[\"Product\"][0]"
   ]
  },
  {
   "cell_type": "code",
   "execution_count": 548,
   "id": "1ae094fd",
   "metadata": {},
   "outputs": [],
   "source": [
    "ingredients_list[idx] = df_best[\"Product\"][0]\n",
    "co2_list[idx] = float((n/1000)*df_best[\"co2_per_kg\"][0])\n"
   ]
  },
  {
   "cell_type": "code",
   "execution_count": 549,
   "id": "2b08519d",
   "metadata": {},
   "outputs": [
    {
     "data": {
      "text/plain": [
       "['onion',\n",
       " 'a little butter malt (or sunflower oil) to fry',\n",
       " 'Soy bean sprouts',\n",
       " 'salt',\n",
       " 'pepper',\n",
       " 'sugar',\n",
       " 'red wine',\n",
       " 'sweet pepper',\n",
       " 'pepper',\n",
       " 'marjoram',\n",
       " 'Ground caraway',\n",
       " 'mineral water',\n",
       " 'vinegar',\n",
       " 'parsley',\n",
       " 'a little butter malt (or sunflower oil)',\n",
       " 'a little salt']"
      ]
     },
     "execution_count": 549,
     "metadata": {},
     "output_type": "execute_result"
    }
   ],
   "source": [
    "ingredients_list"
   ]
  },
  {
   "cell_type": "code",
   "execution_count": 550,
   "id": "7d304de1",
   "metadata": {},
   "outputs": [
    {
     "data": {
      "text/plain": [
       "[0.15,\n",
       " 0,\n",
       " 0.09,\n",
       " 0.25,\n",
       " 0.32,\n",
       " 0.6,\n",
       " 0.432,\n",
       " 1.28,\n",
       " 0.64,\n",
       " 0.9,\n",
       " 0,\n",
       " 0.2,\n",
       " 0.46,\n",
       " 0.04000000000000001,\n",
       " 0,\n",
       " 0]"
      ]
     },
     "execution_count": 550,
     "metadata": {},
     "output_type": "execute_result"
    }
   ],
   "source": [
    "co2_list"
   ]
  },
  {
   "cell_type": "code",
   "execution_count": 551,
   "id": "48dc2437",
   "metadata": {},
   "outputs": [
    {
     "data": {
      "text/plain": [
       "5.362"
      ]
     },
     "execution_count": 551,
     "metadata": {},
     "output_type": "execute_result"
    }
   ],
   "source": [
    "sum(co2_list)"
   ]
  },
  {
   "cell_type": "code",
   "execution_count": null,
   "id": "2bcd344f",
   "metadata": {},
   "outputs": [],
   "source": []
  }
 ],
 "metadata": {
  "kernelspec": {
   "display_name": "bfh (3.12.6)",
   "language": "python",
   "name": "python3"
  },
  "language_info": {
   "codemirror_mode": {
    "name": "ipython",
    "version": 3
   },
   "file_extension": ".py",
   "mimetype": "text/x-python",
   "name": "python",
   "nbconvert_exporter": "python",
   "pygments_lexer": "ipython3",
   "version": "3.12.6"
  }
 },
 "nbformat": 4,
 "nbformat_minor": 5
}
